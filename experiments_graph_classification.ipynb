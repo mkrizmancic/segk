{
 "cells": [
  {
   "cell_type": "code",
   "execution_count": null,
   "metadata": {},
   "outputs": [],
   "source": [
    "import networkx as nx\n",
    "import numpy as np\n",
    "\n",
    "from segk import segk\n",
    "from utils import load_graph_data, pyramid_match_kernel\n",
    "from evaluation import evaluate_graph_regression"
   ]
  },
  {
   "cell_type": "code",
   "execution_count": null,
   "metadata": {},
   "outputs": [],
   "source": [
    "dataset = \"GRAPHS\"\n",
    "use_node_labels = False\n",
    "dim = 50\n",
    "r = 5\n",
    "\n",
    "nodes, edgelist, graph_indicator, node_labels, class_labels = load_graph_data(dataset, use_node_labels, \"regression\")\n",
    "\n",
    "n_graphs = max(graph_indicator.values())\n",
    "\n",
    "E_segk_sp = segk(nodes, edgelist, radius=r, dim=dim, kernel='shortest_path')\n",
    "E_segk_wl = segk(nodes, edgelist, radius=r, dim=dim, kernel='weisfeiler_lehman')\n",
    "\n",
    "E_segk_sp -= np.min(E_segk_sp)\n",
    "E_segk_wl -= np.min(E_segk_wl)\n",
    "\n",
    "E_segk_sp /= np.max(E_segk_sp)\n",
    "E_segk_wl /= np.max(E_segk_wl)\n",
    "\n",
    "embeddings_segk_sp = list()\n",
    "embeddings_segk_wl = list()\n",
    "for i in range(n_graphs):\n",
    "    embeddings_segk_sp.append(list())\n",
    "    embeddings_segk_wl.append(list())\n",
    "\n",
    "for i,node in enumerate(nodes):\n",
    "    embeddings_segk_sp[graph_indicator[node]-1].append(E_segk_sp[i,:])\n",
    "    embeddings_segk_wl[graph_indicator[node]-1].append(E_segk_wl[i,:])\n",
    "\n",
    "embeddings_segk_sp = [np.vstack(l) for l in embeddings_segk_sp]\n",
    "embeddings_segk_wl = [np.vstack(l) for l in embeddings_segk_wl]\n",
    "\n",
    "K_segk_sp = pyramid_match_kernel(embeddings_segk_sp, d=dim)\n",
    "K_segk_wl = pyramid_match_kernel(embeddings_segk_wl, d=dim)"
   ]
  },
  {
   "cell_type": "code",
   "execution_count": null,
   "metadata": {},
   "outputs": [],
   "source": [
    "print(\"Performance SEGK-SP\")\n",
    "print(\"-------------------\")\n",
    "evaluate_graph_regression(K_segk_sp, class_labels)\n",
    "\n",
    "print()\n",
    "print(\"Performance SEGK-WL\")\n",
    "print(\"-------------------\")\n",
    "evaluate_graph_regression(K_segk_wl, class_labels)"
   ]
  }
 ],
 "metadata": {
  "kernelspec": {
   "display_name": "graphs_venv",
   "language": "python",
   "name": "python3"
  },
  "language_info": {
   "codemirror_mode": {
    "name": "ipython",
    "version": 3
   },
   "file_extension": ".py",
   "mimetype": "text/x-python",
   "name": "python",
   "nbconvert_exporter": "python",
   "pygments_lexer": "ipython3",
   "version": "3.10.12"
  }
 },
 "nbformat": 4,
 "nbformat_minor": 2
}
